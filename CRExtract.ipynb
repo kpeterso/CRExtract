{
 "cells": [
  {
   "cell_type": "code",
   "execution_count": null,
   "metadata": {},
   "outputs": [],
   "source": [
    "import requests\n",
    "import pandas as pd\n",
    "import json\n",
    "from tqdm import tqdm\n",
    "import codecs"
   ]
  },
  {
   "cell_type": "code",
   "execution_count": null,
   "metadata": {},
   "outputs": [],
   "source": [
    "headers = {\n",
    "    'User-Agent': 'Mozilla/5.0 (Windows NT 6.1; WOW64; Trident/7.0; rv:11.0) like Gecko'\n",
    "}"
   ]
  },
  {
   "cell_type": "code",
   "execution_count": null,
   "metadata": {},
   "outputs": [],
   "source": [
    "linkFrontEncoded = 'uggcf://jjj.pbafhzreercbegf.bet/pnef/engvatf-qngn/'\n",
    "linkFront = codecs.encode(linkFront, 'rot_13')"
   ]
  },
  {
   "cell_type": "code",
   "execution_count": null,
   "metadata": {},
   "outputs": [],
   "source": [
    "carData=[]\n",
    "for i in tqdm(range(7200,9200)):\n",
    "    try:\n",
    "        #print(i)\n",
    "        #get car data\n",
    "        carResponse = requests.get(\"\".join([linkFront,str(i)]))\n",
    "        carResponse.raise_for_status() # raise exception if invalid response\n",
    "        carData.extend(carResponse.json())\n",
    "    except requests.exceptions.RequestException as e:\n",
    "        print(e)\n",
    "        #skipList.append(i)\n",
    "        continue"
   ]
  },
  {
   "cell_type": "code",
   "execution_count": null,
   "metadata": {},
   "outputs": [],
   "source": [
    "from datetime import datetime\n",
    "# Get current date\n",
    "date_object = datetime.now()\n",
    "# convert object to the format we want\n",
    "formatted_date = date_object.strftime('%m%d%Y')\n",
    "formatted_date"
   ]
  },
  {
   "cell_type": "code",
   "execution_count": null,
   "metadata": {},
   "outputs": [],
   "source": [
    "import pickle\n",
    "pickle.dump( carData, open( formatted_data + \"_carData.p\", \"wb\" ) )"
   ]
  },
  {
   "cell_type": "code",
   "execution_count": null,
   "metadata": {},
   "outputs": [],
   "source": [
    "carData[60][2]['items'][0]['items'][0]"
   ]
  },
  {
   "cell_type": "code",
   "execution_count": null,
   "metadata": {},
   "outputs": [],
   "source": [
    "vehicleData = []\n",
    "for c in carData:\n",
    "    d = {}\n",
    "    d['model'] = c[0]['compareInfo']['name']\n",
    "    d['trim'] = c[0]['compareInfo']['subName']\n",
    "    d['modelYearId'] = c[0]['compareInfo']['modelYearId']\n",
    "    d['overallScore'] = c[1]['items'][0]['value']\n",
    "    d['roadTest'] = c[1]['items'][1]['value']\n",
    "    d['AEBCity'] = c[3]['items'][0]['items'][0]['items'][1]['value']\n",
    "    d['AEBHighway'] = c[3]['items'][0]['items'][0]['items'][2]['value']\n",
    "    \n",
    "    vehicleData.append(d)"
   ]
  },
  {
   "cell_type": "code",
   "execution_count": null,
   "metadata": {},
   "outputs": [],
   "source": [
    "pd.DataFrame(vehicleData).to_excel('CRd')"
   ]
  },
  {
   "cell_type": "code",
   "execution_count": null,
   "metadata": {},
   "outputs": [],
   "source": [
    "jsonFiles = []\n",
    "jsonFiles.append('smallcarreliability.txt')\n",
    "jsonFiles.append('evreliability.txt')\n",
    "jsonFiles.append('pickupreliability.txt')\n",
    "jsonFiles.append('minivanreliability.txt')\n",
    "jsonFiles.append('sedanreliability.txt')\n",
    "jsonFiles.append('sportscarreliability.txt')\n",
    "jsonFiles.append('suvreliability.txt')\n",
    "jsonFiles.append('wagonreliability.txt')\n",
    "jsonFiles.append('luxurycarreliability.txt')\n",
    "jsonFiles.append('convertablesreliability.txt')"
   ]
  },
  {
   "cell_type": "code",
   "execution_count": null,
   "metadata": {},
   "outputs": [],
   "source": [
    "import json"
   ]
  },
  {
   "cell_type": "code",
   "execution_count": null,
   "metadata": {},
   "outputs": [],
   "source": [
    "data = json.load(open(jsonFiles[0]))"
   ]
  },
  {
   "cell_type": "code",
   "execution_count": null,
   "metadata": {},
   "outputs": [],
   "source": [
    "data = []\n",
    "for f in jsonFiles:\n",
    "    s = json.load(open(f))\n",
    "    data.extend(s['response'])"
   ]
  },
  {
   "cell_type": "code",
   "execution_count": null,
   "metadata": {},
   "outputs": [],
   "source": [
    "data[0]['modelYearReliabilityRatings']['predictedReliabilityScore']"
   ]
  },
  {
   "cell_type": "code",
   "execution_count": null,
   "metadata": {},
   "outputs": [],
   "source": [
    "relData = []\n",
    "for dm in data:\n",
    "    if 'modelYearReliabilityRatings' in list(dm.keys()):\n",
    "        if 'predictedReliabilityScore' in list(dm['modelYearReliabilityRatings'].keys()):\n",
    "            d = {}\n",
    "            d['reliability'] = dm['modelYearReliabilityRatings']['predictedReliabilityScore']\n",
    "            d['modelYearId'] = dm['modelYearId']\n",
    "    if 'modelYearOwnerSatisfactionRatings' in list(dm.keys()):\n",
    "        if 'predictedWouldBuyAgainPercent' in list(dm['modelYearOwnerSatisfactionRatings'].keys()):\n",
    "            d['ownerSat'] = dm['modelYearOwnerSatisfactionRatings']['predictedWouldBuyAgainPercent']\n",
    "    relData.append(d)"
   ]
  },
  {
   "cell_type": "code",
   "execution_count": null,
   "metadata": {},
   "outputs": [],
   "source": [
    "pd.DataFrame(relData).to_excel('relData.xlsx')"
   ]
  },
  {
   "cell_type": "code",
   "execution_count": null,
   "metadata": {},
   "outputs": [],
   "source": [
    "def flattenjson(y):\n",
    "    out = {}\n",
    "\n",
    "    def flatten(x, name=''):\n",
    "        if type(x) is dict:\n",
    "            if 'label' in list(x.keys()) and 'value' in list(x.keys()):\n",
    "                out[x['label']] = x['value']\n",
    "            else:\n",
    "                for a in x:\n",
    "                    flatten(x[a], name + a + '_')\n",
    "        elif type(x) is list:\n",
    "            i = 0\n",
    "            for a in x:\n",
    "                flatten(a, name + str(i) + '_')\n",
    "                i += 1\n",
    "        else:\n",
    "            out[name[:-1]] = x\n",
    "\n",
    "    flatten(y)\n",
    "    return out"
   ]
  },
  {
   "cell_type": "code",
   "execution_count": null,
   "metadata": {},
   "outputs": [],
   "source": [
    "flat = []\n",
    "for i in data:\n",
    "    flat.append(flattenjson(i))"
   ]
  },
  {
   "cell_type": "code",
   "execution_count": null,
   "metadata": {},
   "outputs": [],
   "source": [
    "pd.DataFrame(flat).to_excel('rel.xlsx')"
   ]
  },
  {
   "cell_type": "code",
   "execution_count": null,
   "metadata": {},
   "outputs": [],
   "source": [
    "flatCarData = []\n",
    "for i in carData:\n",
    "    flatCarData.append(flattenjson(i))"
   ]
  },
  {
   "cell_type": "code",
   "execution_count": null,
   "metadata": {},
   "outputs": [],
   "source": [
    "def getYear(row):\n",
    "    s = row['0_compareInfo_name'][:4]\n",
    "    return s"
   ]
  },
  {
   "cell_type": "code",
   "execution_count": null,
   "metadata": {},
   "outputs": [],
   "source": [
    "def getMake(row):\n",
    "    s = row['0_compareInfo_name'][5:]\n",
    "    s = s.split(' ')\n",
    "    if len(s)==4:\n",
    "        make = s[0]+' '+s[1]\n",
    "    elif len(s)==3:\n",
    "        make = s[0]+' '+s[1]\n",
    "    else:\n",
    "        make = s[0]\n",
    "    return make"
   ]
  },
  {
   "cell_type": "code",
   "execution_count": null,
   "metadata": {},
   "outputs": [],
   "source": [
    "def getModel(row):\n",
    "    s = row['0_compareInfo_name'][5:]\n",
    "    s = s.split(' ')\n",
    "    if len(s)==4:\n",
    "        make = s[2]+' '+s[3]\n",
    "    elif len(s)==3:\n",
    "        make = s[2]\n",
    "    else:\n",
    "        make = s[1]\n",
    "    return make"
   ]
  },
  {
   "cell_type": "code",
   "execution_count": null,
   "metadata": {
    "scrolled": true
   },
   "outputs": [],
   "source": [
    "d = pd.DataFrame(flatCarData)\n",
    "d['Year'] = d.apply(getYear,axis=1)\n",
    "d['Make'] = d.apply(getMake,axis=1)\n",
    "d['Model'] = d.apply(getModel, axis=1)\n",
    "d.to_excel('data.xlsx')"
   ]
  },
  {
   "cell_type": "code",
   "execution_count": null,
   "metadata": {},
   "outputs": [],
   "source": []
  }
 ],
 "metadata": {
  "kernelspec": {
   "display_name": "Python 3",
   "language": "python",
   "name": "python3"
  },
  "language_info": {
   "codemirror_mode": {
    "name": "ipython",
    "version": 3
   },
   "file_extension": ".py",
   "mimetype": "text/x-python",
   "name": "python",
   "nbconvert_exporter": "python",
   "pygments_lexer": "ipython3",
   "version": "3.6.3"
  }
 },
 "nbformat": 4,
 "nbformat_minor": 2
}
